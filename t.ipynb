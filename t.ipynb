{
 "cells": [
  {
   "cell_type": "code",
   "execution_count": 9,
   "metadata": {},
   "outputs": [
    {
     "name": "stdout",
     "output_type": "stream",
     "text": [
      "Valid array_of_valute\n",
      "Valid user\n",
      "Valid valute\n",
      "Valid response_of_GetPersonalCurrencyRate\n",
      "Valid params_of_GetPersonalCurrencyRate\n",
      "Valid base_exception\n",
      "Valid result_of_GetPersonalCurrencyRate\n"
     ]
    }
   ],
   "source": [
    "import jsonschema\n",
    "import os\n",
    "import json\n",
    "for folder in os.listdir(\"./schemas/\"):\n",
    "    with open(f\"./schemas/{folder}/schema.json\", encoding=\"utf8\") as f:\n",
    "        schema = json.load(f)\n",
    "    try:\n",
    "        for example in schema[\"examples\"]:\n",
    "            jsonschema.validate(example, schema)\n",
    "        print(f\"Valid {folder}\")\n",
    "    except:\n",
    "        print(f\"Invalid {folder}\")"
   ]
  }
 ],
 "metadata": {
  "kernelspec": {
   "display_name": "Python 3.9.6 64-bit ('Python')",
   "language": "python",
   "name": "python3"
  },
  "language_info": {
   "codemirror_mode": {
    "name": "ipython",
    "version": 3
   },
   "file_extension": ".py",
   "mimetype": "text/x-python",
   "name": "python",
   "nbconvert_exporter": "python",
   "pygments_lexer": "ipython3",
   "version": "3.9.6"
  },
  "orig_nbformat": 4,
  "vscode": {
   "interpreter": {
    "hash": "2469a70536e4d2335a2ea8907942d0699c37342a371ac185bdb5b0aa6f073890"
   }
  }
 },
 "nbformat": 4,
 "nbformat_minor": 2
}
